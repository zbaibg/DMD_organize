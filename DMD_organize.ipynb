{
 "cells": [
  {
   "cell_type": "code",
   "execution_count": 1,
   "metadata": {},
   "outputs": [],
   "source": [
    "import pandas as pd\n",
    "import os \n",
    "import DMDana\n",
    "from DMDana.lib.DMDparser import *\n",
    "from DMDana.lib.constant import *\n",
    "from DMDana.do.config import DMDana_ini_Class\n",
    "from DMDana.do import *\n",
    "import logging\n",
    "root_path=os.getcwd()\n",
    "class DMD_organize(object):\n",
    "    def __init__(self,):\n",
    "        self.df_file_path_in='database_in.xlsx'\n",
    "        assert os.path.isfile(self.df_file_path_in)\n",
    "        self.df_file_path_out='database_out.xlsx'\n",
    "        self.df = None\n",
    "        \n",
    "        self.read_database(self.df_file_path_in)\n",
    "        #self.DMDana_ini=DMDana_ini_Class('./DMDana.ini')\n",
    "    def read_database(self,path):\n",
    "        self.df=pd.read_excel(path)\n",
    "    def save_database(self,path):\n",
    "        self.df.to_excel(path,index=False)\n",
    "    def do(self):\n",
    "        for i,folder in enumerate(self.df.folders):\n",
    "            assert os.path.isdir(folder)\n",
    "            f=folder_analysis(folder,i)\n",
    "            self.df.loc[i,list(f.DMDparam_value)]=list(f.DMDparam_value.values())\n",
    "            self.df.loc[i,\\\n",
    "            [\"EBot_probe_au\", \"ETop_probe_au\", \"EBot_dm_au\", \"ETop_dm_au\",\\\n",
    "            \"EBot_eph_au\", \"ETop_eph_au\" ,\"EvMax_au\", \"EcMin_au\"]]=\\\n",
    "            [f.EBot_probe_au/eV, f.ETop_probe_au/eV, f.EBot_dm_au/eV, f.ETop_dm_au/eV,\\\n",
    "            f.EBot_eph_au/eV, f.ETop_eph_au/eV ,f.EvMax_au/eV, f.EcMin_au/eV]\n",
    "            self.df.loc[i,\\\n",
    "            [\"mu_eV\",\"temperature_K\"]]=[f.mu_au/eV,f.temperature_au/Kelvin]\n",
    "        self.save_database(self.df_file_path_out)\n",
    "class folder_analysis(object):\n",
    "    def __init__(self,folder_path,folder_number):\n",
    "        logging.basicConfig(\n",
    "            level=logging.INFO,\n",
    "            filename='folder_%d.log'%folder_number,\n",
    "            format='%(asctime)s - %(levelname)s - %(message)s',\n",
    "            datefmt='%m/%d/%Y %I:%M:%S %p',\n",
    "            filemode='w',force=True)\n",
    "        self.folder_path=folder_path \n",
    "        self.DMDparam_value=get_DMD_param(self.folder_path)\n",
    "        self.jx_data,self.jy_data,self.jz_data=get_current_data(self.folder_path)\n",
    "        self.EBot_probe_au, self.ETop_probe_au, self.EBot_dm_au, self.ETop_dm_au,\\\n",
    "        self.EBot_eph_au, self.ETop_eph_au ,self.EvMax_au, self.EcMin_au=\\\n",
    "        get_erange(self.folder_path)\n",
    "        self.mu_au,self.temperature_au=get_mu_temperature(self.DMDparam_value,self.folder_path)\n",
    "        self.DMDana_ini=DMDana_ini_Class()\n",
    "        self.DMDana_ini.folderlist=[self.folder_path]\n",
    "        self.total_step_number=get_total_step_number(self.folder_path)\n",
    "        self.DMDana_ini.DMDana_ini_configparser['FFT-spectrum-plot']['Cutoff_list']=str(np.max([self.total_step_number-1000,1]))\n",
    "        if not os.path.isdir(\"%d\"%folder_number):\n",
    "            os.mkdir(\"%d\"%folder_number)\n",
    "        for _ in[os.chdir(os.path.join(root_path,\"%d\"%folder_number))]:\n",
    "            \n",
    "            current_plot.do(self.DMDana_ini)\n",
    "            FFT_spectrum_plot.do(self.DMDana_ini)\n",
    "            FFT_DC_convergence_test.do(self.DMDana_ini)\n",
    "            occup_time.do(self.DMDana_ini)\n",
    "            occup_deriv.do(self.DMDana_ini)\n",
    "        logging.info(\"Successfully finished folder %d\"%folder_number)\n",
    "        os.chdir(root_path)\n",
    "\n"
   ]
  },
  {
   "cell_type": "code",
   "execution_count": 2,
   "metadata": {},
   "outputs": [
    {
     "name": "stderr",
     "output_type": "stream",
     "text": [
      "/home/bg/soft/DMDana/DMDana/do/occup_time.py:139: OptimizeWarning: Covariance of the parameters could not be estimated\n",
      "  popt,pcov=curve_fit(Bolzmann,data[:,0]*const.Hatree_to_eV,data[:,1],p0=[self.param.fit_Boltzmann_initial_guess_mu,self.param.fit_Boltzmann_initial_guess_T])\n",
      "/home/bg/soft/DMDana/DMDana/do/occup_time.py:139: OptimizeWarning: Covariance of the parameters could not be estimated\n",
      "  popt,pcov=curve_fit(Bolzmann,data[:,0]*const.Hatree_to_eV,data[:,1],p0=[self.param.fit_Boltzmann_initial_guess_mu,self.param.fit_Boltzmann_initial_guess_T])\n"
     ]
    }
   ],
   "source": [
    "tmp=DMD_organize()\n",
    "tmp.do()"
   ]
  },
  {
   "cell_type": "code",
   "execution_count": null,
   "metadata": {},
   "outputs": [],
   "source": []
  }
 ],
 "metadata": {
  "kernelspec": {
   "display_name": "base",
   "language": "python",
   "name": "python3"
  },
  "language_info": {
   "codemirror_mode": {
    "name": "ipython",
    "version": 3
   },
   "file_extension": ".py",
   "mimetype": "text/x-python",
   "name": "python",
   "nbconvert_exporter": "python",
   "pygments_lexer": "ipython3",
   "version": "3.11.5"
  }
 },
 "nbformat": 4,
 "nbformat_minor": 2
}
